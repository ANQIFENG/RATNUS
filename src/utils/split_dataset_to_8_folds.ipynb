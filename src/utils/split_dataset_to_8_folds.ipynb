{
 "cells": [
  {
   "cell_type": "markdown",
   "source": [
    "## Split the dataset into 8 fold (24 data >> 8 fold)"
   ],
   "metadata": {
    "collapsed": false,
    "pycharm": {
     "name": "#%% md\n"
    }
   }
  },
  {
   "cell_type": "code",
   "execution_count": 16,
   "outputs": [],
   "source": [
    "config_split = {}\n",
    "for split in range(8):\n",
    "    test_idxs = [i for i in list(range(24))[(split)*3: (split+1)*3]]\n",
    "    val_idxs = [i for i in range((split + 1) * 3, (split + 1) * 3 + 2) if i < 24]\n",
    "    if len(val_idxs) < 2:\n",
    "        val_idxs += [i for i in range(0, 2 - len(val_idxs))]\n",
    "    train_idxs = [i for i in range(24) if ((i not in test_idxs) and (i not in val_idxs))]\n",
    "    config_split[str(split)] = {\n",
    "        \"train_idxs\": train_idxs,\n",
    "        \"val_idxs\": val_idxs,\n",
    "        \"test_idxs\": test_idxs\n",
    "    }"
   ],
   "metadata": {
    "collapsed": false,
    "pycharm": {
     "name": "#%%\n"
    }
   }
  },
  {
   "cell_type": "code",
   "execution_count": 17,
   "outputs": [
    {
     "name": "stdout",
     "output_type": "stream",
     "text": [
      "{'0': {'train_idxs': [5, 6, 7, 8, 9, 10, 11, 12, 13, 14, 15, 16, 17, 18, 19, 20, 21, 22, 23], 'val_idxs': [3, 4], 'test_idxs': [0, 1, 2]}, '1': {'train_idxs': [0, 1, 2, 8, 9, 10, 11, 12, 13, 14, 15, 16, 17, 18, 19, 20, 21, 22, 23], 'val_idxs': [6, 7], 'test_idxs': [3, 4, 5]}, '2': {'train_idxs': [0, 1, 2, 3, 4, 5, 11, 12, 13, 14, 15, 16, 17, 18, 19, 20, 21, 22, 23], 'val_idxs': [9, 10], 'test_idxs': [6, 7, 8]}, '3': {'train_idxs': [0, 1, 2, 3, 4, 5, 6, 7, 8, 14, 15, 16, 17, 18, 19, 20, 21, 22, 23], 'val_idxs': [12, 13], 'test_idxs': [9, 10, 11]}, '4': {'train_idxs': [0, 1, 2, 3, 4, 5, 6, 7, 8, 9, 10, 11, 17, 18, 19, 20, 21, 22, 23], 'val_idxs': [15, 16], 'test_idxs': [12, 13, 14]}, '5': {'train_idxs': [0, 1, 2, 3, 4, 5, 6, 7, 8, 9, 10, 11, 12, 13, 14, 20, 21, 22, 23], 'val_idxs': [18, 19], 'test_idxs': [15, 16, 17]}, '6': {'train_idxs': [0, 1, 2, 3, 4, 5, 6, 7, 8, 9, 10, 11, 12, 13, 14, 15, 16, 17, 23], 'val_idxs': [21, 22], 'test_idxs': [18, 19, 20]}, '7': {'train_idxs': [2, 3, 4, 5, 6, 7, 8, 9, 10, 11, 12, 13, 14, 15, 16, 17, 18, 19, 20], 'val_idxs': [0, 1], 'test_idxs': [21, 22, 23]}}\n"
     ]
    }
   ],
   "source": [
    "print(config_split)"
   ],
   "metadata": {
    "collapsed": false,
    "pycharm": {
     "name": "#%%\n"
    }
   }
  }
 ],
 "metadata": {
  "kernelspec": {
   "display_name": "Python 3",
   "language": "python",
   "name": "python3"
  },
  "language_info": {
   "codemirror_mode": {
    "name": "ipython",
    "version": 2
   },
   "file_extension": ".py",
   "mimetype": "text/x-python",
   "name": "python",
   "nbconvert_exporter": "python",
   "pygments_lexer": "ipython2",
   "version": "2.7.6"
  }
 },
 "nbformat": 4,
 "nbformat_minor": 0
}